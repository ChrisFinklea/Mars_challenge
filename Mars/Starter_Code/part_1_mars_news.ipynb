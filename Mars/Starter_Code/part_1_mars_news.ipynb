{
 "cells": [
  {
   "attachments": {},
   "cell_type": "markdown",
   "metadata": {},
   "source": [
    "# Module 12 Challenge\n",
    "## Deliverable 1: Scrape Titles and Preview Text from Mars News"
   ]
  },
  {
   "cell_type": "code",
   "execution_count": 2,
   "metadata": {},
   "outputs": [],
   "source": [
    "# Import Splinter and BeautifulSoup\n",
    "from splinter import Browser\n",
    "from bs4 import BeautifulSoup\n",
    "from pprint import pprint"
   ]
  },
  {
   "cell_type": "code",
   "execution_count": 4,
   "metadata": {
    "scrolled": true
   },
   "outputs": [],
   "source": [
    "browser = Browser('chrome')"
   ]
  },
  {
   "attachments": {},
   "cell_type": "markdown",
   "metadata": {},
   "source": [
    "### Step 1: Visit the Website\n",
    "\n",
    "1. Use automated browsing to visit the [Mars news site](https://static.bc-edx.com/data/web/mars_news/index.html). Inspect the page to identify which elements to scrape.\n",
    "\n",
    "      > **Hint** To identify which elements to scrape, you might want to inspect the page by using Chrome DevTools."
   ]
  },
  {
   "cell_type": "code",
   "execution_count": 5,
   "metadata": {},
   "outputs": [],
   "source": [
    "# Visit the Mars news site\n",
    "url = 'https://static.bc-edx.com/data/web/mars_news/index.html'\n",
    "browser.visit(url)"
   ]
  },
  {
   "attachments": {},
   "cell_type": "markdown",
   "metadata": {},
   "source": [
    "### Step 2: Scrape the Website\n",
    "\n",
    "Create a Beautiful Soup object and use it to extract text elements from the website."
   ]
  },
  {
   "cell_type": "code",
   "execution_count": 6,
   "metadata": {},
   "outputs": [],
   "source": [
    "# Create a Beautiful Soup object\n",
    "html = browser.html\n",
    "soup = BeautifulSoup(html, 'html.parser')"
   ]
  },
  {
   "cell_type": "code",
   "execution_count": 15,
   "metadata": {},
   "outputs": [
    {
     "name": "stdout",
     "output_type": "stream",
     "text": [
      "('News - Mars Exploration ProgramMARS Planet ScienceExploration ProgramThe Red '\n",
      " 'PlanetThe ProgramNews & EventsMultimediaMissionsMoreNewsLatestAll '\n",
      " \"CategoriesNovember 9, 2022NASA's MAVEN Observes Martian Light Show Caused by \"\n",
      " 'Major Solar StormFor the first time in its eight years orbiting Mars, NASA’s '\n",
      " 'MAVEN mission witnessed two different types of ultraviolet aurorae '\n",
      " 'simultaneously, the result of solar storms that began on Aug. 27.November 1, '\n",
      " \"2022NASA Prepares to Say 'Farewell' to InSight SpacecraftA closer look at \"\n",
      " 'what goes into wrapping up the mission as the spacecraft’s power supply '\n",
      " 'continues to dwindle.October 28, 2022NASA and ESA Agree on Next Steps to '\n",
      " 'Return Mars Samples to EarthThe agency’s Perseverance rover will establish '\n",
      " \"the first sample depot on Mars.October 27, 2022NASA's InSight Lander Detects \"\n",
      " 'Stunning Meteoroid Impact on MarsThe agency’s lander felt the ground shake '\n",
      " 'during the impact while cameras aboard the Mars Reconnaissance Orbiter '\n",
      " 'spotted the yawning new crater from space.October 21, 2022NASA To Host '\n",
      " 'Briefing on InSight, Mars Reconnaissance Orbiter FindingsScientists from two '\n",
      " 'Mars missions will discuss how they combined images and data for a major '\n",
      " 'finding on the Red Planet.October 20, 2022Why NASA Is Trying To Crash Land '\n",
      " 'on MarsLike a car’s crumple zone, the experimental SHIELD lander is designed '\n",
      " 'to absorb a hard impact.October 19, 2022Curiosity Mars Rover Reaches '\n",
      " 'Long-Awaited Salty RegionAfter years of climbing, the Mars rover has arrived '\n",
      " 'at a special region believed to have formed as Mars’ climate was '\n",
      " 'drying.October 12, 2022Mars Mission Shields Up for TestsProtecting Mars '\n",
      " 'Sample Return spacecraft from micrometeorites requires high-caliber '\n",
      " \"work.October 7, 2022NASA's InSight Waits Out Dust StormInSight’s team is \"\n",
      " 'taking steps to help the solar-powered lander continue operating for as long '\n",
      " \"as possible.September 19, 2022NASA's InSight 'Hears' Its First Meteoroid \"\n",
      " 'Impacts on MarsThe Mars lander’s seismometer has picked up vibrations from '\n",
      " \"four separate impacts in the past two years.September 15, 2022NASA's \"\n",
      " 'Perseverance Rover Investigates Geologically Rich Mars TerrainThe latest '\n",
      " 'findings provide greater detail on a region of the Red Planet that has a '\n",
      " 'watery past and is yielding promising samples for the NASA-ESA Mars Sample '\n",
      " 'Return campaign.September 12, 2022NASA to Host Briefing on Perseverance Mars '\n",
      " 'Rover Mission OperationsMembers of the mission will discuss the rover’s '\n",
      " 'activities as it gathers samples in an ancient river delta.August 25, '\n",
      " \"2022NASA's Perseverance Makes New Discoveries in Mars' Jezero CraterThe \"\n",
      " 'rover found that Jezero Crater’s floor is made up of volcanic rocks that '\n",
      " \"have interacted with water.August 5, 202210 Years Since Landing, NASA's \"\n",
      " 'Curiosity Mars Rover Still Has DriveDespite signs of wear, the intrepid '\n",
      " 'spacecraft is about to start an exciting new chapter of its mission as it '\n",
      " \"climbs a Martian mountain.August 4, 2022SAM's Top 5 Discoveries Aboard \"\n",
      " \"NASA's Curiosity Rover at Mars“Selfie” of the Curiosity rover with inset \"\n",
      " 'showing the SAM instrument prior to installation on the rover.MoreYou Might '\n",
      " \"Also LikeNASA Marks 25 Years Since Pathfinder Touched Down on MarsNASA's \"\n",
      " 'Perseverance Rover Captures Video of Solar Eclipse on MarsNASA, UAE Mars '\n",
      " 'Missions Agree to Share Science DataThe Red PlanetDashboardScience GoalsThe '\n",
      " 'PlanetThe ProgramMission StatementAbout the ProgramOrganization Why '\n",
      " 'Mars?MultimediaImagesVideosMore ResourcesMissionsPastPresentFutureImages and '\n",
      " \"news content extracted from NASA's Mars News website on November 9, \"\n",
      " '2022.         Images used in accordance with the JPL Image Use Policy.This '\n",
      " 'site is operated by edX Boot Camps LLC for educational purposes '\n",
      " 'only.              This is not a website endorsed by NASA. This website is '\n",
      " 'intended only for internal academic purposes.')\n"
     ]
    }
   ],
   "source": [
    "# Extract all the text elements\n",
    "text = soup.text.strip().replace('\\n', '')\n",
    "pprint(text)"
   ]
  },
  {
   "attachments": {},
   "cell_type": "markdown",
   "metadata": {},
   "source": [
    "### Step 3: Store the Results\n",
    "\n",
    "Extract the titles and preview text of the news articles that you scraped. Store the scraping results in Python data structures as follows:\n",
    "\n",
    "* Store each title-and-preview pair in a Python dictionary. And, give each dictionary two keys: `title` and `preview`. An example is the following:\n",
    "\n",
    "  ```python\n",
    "  {'title': \"NASA's MAVEN Observes Martian Light Show Caused by Major Solar Storm\", \n",
    "   'preview': \"For the first time in its eight years orbiting Mars, NASA’s MAVEN mission witnessed two different types of ultraviolet aurorae simultaneously, the result of solar storms that began on Aug. 27.\"\n",
    "  }\n",
    "  ```\n",
    "\n",
    "* Store all the dictionaries in a Python list.\n",
    "\n",
    "* Print the list in your notebook."
   ]
  },
  {
   "cell_type": "code",
   "execution_count": 10,
   "metadata": {},
   "outputs": [],
   "source": [
    "# Create an empty list to store the dictionaries\n",
    "mars_list = []"
   ]
  },
  {
   "cell_type": "code",
   "execution_count": 11,
   "metadata": {},
   "outputs": [],
   "source": [
    "articles = soup.find_all('div',class_='list_text')\n",
    "# Loop through the text elements\n",
    "for article in articles:\n",
    "# Extract the title and preview text from the elements\n",
    "    title = article.find('div',class_ = 'content_title').text.strip()\n",
    "    preview = article.find('div',class_ = 'article_teaser_body').text.strip()\n",
    "# Store each title and preview pair in a dictionary\n",
    "    mars_dict = {}\n",
    "    mars_dict[\"title\"] = title\n",
    "    mars_dict[\"preview\"] = preview\n",
    "# Add the dictionary to the list\n",
    "    mars_list.append(mars_dict)"
   ]
  },
  {
   "cell_type": "code",
   "execution_count": 12,
   "metadata": {},
   "outputs": [
    {
     "name": "stdout",
     "output_type": "stream",
     "text": [
      "[{'preview': 'For the first time in its eight years orbiting Mars, NASA’s '\n",
      "             'MAVEN mission witnessed two different types of ultraviolet '\n",
      "             'aurorae simultaneously, the result of solar storms that began on '\n",
      "             'Aug. 27.',\n",
      "  'title': \"NASA's MAVEN Observes Martian Light Show Caused by Major Solar \"\n",
      "           'Storm'},\n",
      " {'preview': 'A closer look at what goes into wrapping up the mission as the '\n",
      "             'spacecraft’s power supply continues to dwindle.',\n",
      "  'title': \"NASA Prepares to Say 'Farewell' to InSight Spacecraft\"},\n",
      " {'preview': 'The agency’s Perseverance rover will establish the first sample '\n",
      "             'depot on Mars.',\n",
      "  'title': 'NASA and ESA Agree on Next Steps to Return Mars Samples to Earth'},\n",
      " {'preview': 'The agency’s lander felt the ground shake during the impact '\n",
      "             'while cameras aboard the Mars Reconnaissance Orbiter spotted the '\n",
      "             'yawning new crater from space.',\n",
      "  'title': \"NASA's InSight Lander Detects Stunning Meteoroid Impact on Mars\"},\n",
      " {'preview': 'Scientists from two Mars missions will discuss how they combined '\n",
      "             'images and data for a major finding on the Red Planet.',\n",
      "  'title': 'NASA To Host Briefing on InSight, Mars Reconnaissance Orbiter '\n",
      "           'Findings'},\n",
      " {'preview': 'Like a car’s crumple zone, the experimental SHIELD lander is '\n",
      "             'designed to absorb a hard impact.',\n",
      "  'title': 'Why NASA Is Trying To Crash Land on Mars'},\n",
      " {'preview': 'After years of climbing, the Mars rover has arrived at a special '\n",
      "             'region believed to have formed as Mars’ climate was drying.',\n",
      "  'title': 'Curiosity Mars Rover Reaches Long-Awaited Salty Region'},\n",
      " {'preview': 'Protecting Mars Sample Return spacecraft from micrometeorites '\n",
      "             'requires high-caliber work.',\n",
      "  'title': 'Mars Mission Shields Up for Tests'},\n",
      " {'preview': 'InSight’s team is taking steps to help the solar-powered lander '\n",
      "             'continue operating for as long as possible.',\n",
      "  'title': \"NASA's InSight Waits Out Dust Storm\"},\n",
      " {'preview': 'The Mars lander’s seismometer has picked up vibrations from four '\n",
      "             'separate impacts in the past two years.',\n",
      "  'title': \"NASA's InSight 'Hears' Its First Meteoroid Impacts on Mars\"},\n",
      " {'preview': 'The latest findings provide greater detail on a region of the '\n",
      "             'Red Planet that has a watery past and is yielding promising '\n",
      "             'samples for the NASA-ESA Mars Sample Return campaign.',\n",
      "  'title': \"NASA's Perseverance Rover Investigates Geologically Rich Mars \"\n",
      "           'Terrain'},\n",
      " {'preview': 'Members of the mission will discuss the rover’s activities as it '\n",
      "             'gathers samples in an ancient river delta.',\n",
      "  'title': 'NASA to Host Briefing on Perseverance Mars Rover Mission '\n",
      "           'Operations'},\n",
      " {'preview': 'The rover found that Jezero Crater’s floor is made up of '\n",
      "             'volcanic rocks that have interacted with water.',\n",
      "  'title': \"NASA's Perseverance Makes New Discoveries in Mars' Jezero Crater\"},\n",
      " {'preview': 'Despite signs of wear, the intrepid spacecraft is about to start '\n",
      "             'an exciting new chapter of its mission as it climbs a Martian '\n",
      "             'mountain.',\n",
      "  'title': \"10 Years Since Landing, NASA's Curiosity Mars Rover Still Has \"\n",
      "           'Drive'},\n",
      " {'preview': '“Selfie” of the Curiosity rover with inset showing the SAM '\n",
      "             'instrument prior to installation on the rover.',\n",
      "  'title': \"SAM's Top 5 Discoveries Aboard NASA's Curiosity Rover at Mars\"}]\n"
     ]
    }
   ],
   "source": [
    "# Print the list to confirm success\n",
    "pprint(mars_list)"
   ]
  },
  {
   "cell_type": "code",
   "execution_count": 13,
   "metadata": {},
   "outputs": [],
   "source": [
    "browser.quit()"
   ]
  }
 ],
 "metadata": {
  "kernelspec": {
   "display_name": "Python 3 (ipykernel)",
   "language": "python",
   "name": "python3"
  },
  "language_info": {
   "codemirror_mode": {
    "name": "ipython",
    "version": 3
   },
   "file_extension": ".py",
   "mimetype": "text/x-python",
   "name": "python",
   "nbconvert_exporter": "python",
   "pygments_lexer": "ipython3",
   "version": "3.11.3"
  },
  "vscode": {
   "interpreter": {
    "hash": "31f2aee4e71d21fbe5cf8b01ff0e069b9275f58929596ceb00d14d90e3e16cd6"
   }
  }
 },
 "nbformat": 4,
 "nbformat_minor": 4
}
